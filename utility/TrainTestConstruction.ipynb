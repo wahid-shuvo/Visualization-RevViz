{
 "cells": [
  {
   "cell_type": "code",
   "execution_count": 4,
   "metadata": {
    "collapsed": true
   },
   "outputs": [],
   "source": [
    "filePath = \"C:/Users/wahid/PycharmProjects/code-review-server/data/\"\n",
    "file1Name = \"modeldata-training-and-testing\"\n",
    "with open(filePath + file1Name + \".txt\") as f:\n",
    "  lines = f.readlines()"
   ]
  },
  {
   "cell_type": "code",
   "execution_count": 5,
   "outputs": [],
   "source": [
    "import pandas as pd\n",
    "\n",
    "df1 = pd.read_csv(filePath + \"Corpus-usefulwithScore.csv\")\n",
    "df2 = pd.read_csv(filePath + \"corpus-non-usefulwithScore.csv\")\n",
    "df = pd.concat([df1, df2], ignore_index=True, sort=False)\n",
    "data = pd.DataFrame(\n",
    "  columns=['class', 'RE', 'RENL', 'SWR', 'SKR', 'QR', 'CER', 'CS', 'ACF', 'CT', 'TAC', 'RT', 'RCF', 'TRC', 'RP',\n",
    "           'ExtLib', 'Sentiment', 'id'])"
   ],
   "metadata": {
    "collapsed": false,
    "pycharm": {
     "name": "#%%\n"
    }
   }
  },
  {
   "cell_type": "code",
   "execution_count": 6,
   "outputs": [],
   "source": [
    "df['Score'] = [1 if x == '[0.]' else 0 for x in df['Score']]\n",
    "# Preparing the Dataset"
   ],
   "metadata": {
    "collapsed": false,
    "pycharm": {
     "name": "#%%\n"
    }
   }
  },
  {
   "cell_type": "code",
   "source": [
    "import re\n",
    "count = 0\n",
    "i = 0\n",
    "for line in lines:\n",
    "  count += 1\n",
    "  if count == 1:\n",
    "    continue\n",
    "  else:\n",
    "    sentimentScore = str(df['Score'][i])\n",
    "    commentId = str(df['id'][i])\n",
    "    line = line + sentimentScore + \"\\t\" + commentId\n",
    "    line = re.sub(' +', '\\t', line)\n",
    "    i = i + 1\n",
    "    line = line.replace('\\n', '')\n",
    "    temp = line.split(\"\\t\")\n",
    "    while (\"\" in temp):\n",
    "      temp.remove(\"\")\n",
    "    data.loc[len(data)] = temp\n",
    "data.to_csv('C:\\\\Users\\\\wahid\\\\PycharmProjects\\\\code-review-server\\\\data\\\\testTrainingData.csv')\n"
   ],
   "metadata": {
    "collapsed": false,
    "pycharm": {
     "name": "#%%\n"
    }
   },
   "execution_count": 7,
   "outputs": []
  },
  {
   "cell_type": "code",
   "execution_count": null,
   "outputs": [],
   "source": [],
   "metadata": {
    "collapsed": false,
    "pycharm": {
     "name": "#%%\n"
    }
   }
  }
 ],
 "metadata": {
  "kernelspec": {
   "display_name": "Python 3",
   "language": "python",
   "name": "python3"
  },
  "language_info": {
   "codemirror_mode": {
    "name": "ipython",
    "version": 2
   },
   "file_extension": ".py",
   "mimetype": "text/x-python",
   "name": "python",
   "nbconvert_exporter": "python",
   "pygments_lexer": "ipython2",
   "version": "2.7.6"
  }
 },
 "nbformat": 4,
 "nbformat_minor": 0
}